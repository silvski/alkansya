{
 "cells": [
  {
   "cell_type": "code",
   "execution_count": 1,
   "metadata": {},
   "outputs": [],
   "source": [
    "import os\n",
    "import findspark\n",
    "\n",
    "from alkansya.data_generators import generate_ohlcv\n",
    "from alkansya.utils import get_configurations\n",
    "\n",
    "from pyspark.sql import SparkSession\n",
    "from pyspark.sql import functions as f\n",
    "\n",
    "import pandas as pd\n",
    "from datetime import datetime\n",
    "\n",
    "os.environ[\"ENV\"] = \"DEV\"\n",
    "findspark.init()\n",
    "\n",
    "cfg = get_configurations()\n",
    "\n",
    "path_to_silver = cfg[\"path_to_silver\"]\n",
    "path_to_gold = cfg[\"path_to_gold\"]\n",
    "\n",
    "spark = SparkSession.builder.master(\"local[*]\").getOrCreate()"
   ]
  },
  {
   "cell_type": "code",
   "execution_count": 2,
   "metadata": {},
   "outputs": [],
   "source": [
    "dfs = spark.read.parquet(f\"{path_to_gold}/cleaned\")\n",
    "\n",
    "for resolution in [15,30,60,1440]:\n",
    "    generate_ohlcv(dfs, resolution, path_to_gold)"
   ]
  },
  {
   "cell_type": "code",
   "execution_count": 5,
   "metadata": {},
   "outputs": [
    {
     "name": "stdout",
     "output_type": "stream",
     "text": [
      "+-------------------+-------+-------+-------+-------+--------+-------------+\n",
      "|               time|   open|   high|    low|  close|  volume|currency_pair|\n",
      "+-------------------+-------+-------+-------+-------+--------+-------------+\n",
      "|2019-01-09 08:00:00|1.27576|1.27797|1.27066|1.27395| 91172.0|       GBPUSD|\n",
      "|2019-01-10 08:00:00|1.27418|1.28035|1.27156|1.27889|161779.0|       GBPUSD|\n",
      "|2019-01-11 08:00:00|1.27868|1.27939|1.27279|1.27607|141804.0|       GBPUSD|\n",
      "|2019-01-14 08:00:00|1.28533|1.28639|1.28404|1.28508| 23999.0|       GBPUSD|\n",
      "|2019-01-15 08:00:00|  1.285|1.29303|1.28184|1.29135|124252.0|       GBPUSD|\n",
      "|2019-01-16 08:00:00|1.29148|1.29148|1.26679|1.28681|163631.0|       GBPUSD|\n",
      "|2019-01-17 08:00:00| 1.2867| 1.2897|1.28405|1.28753|130260.0|       GBPUSD|\n",
      "|2019-01-18 08:00:00|1.28781|1.30005| 1.2832|1.29756|140608.0|       GBPUSD|\n",
      "|2019-01-21 08:00:00|1.28768|1.28792|1.28476|1.28695| 23695.0|       GBPUSD|\n",
      "|2019-01-22 08:00:00|1.28682|1.29103|1.28301|1.28731|110491.0|       GBPUSD|\n",
      "|2019-01-23 08:00:00|1.28727|1.29751|1.28549|1.29471|143657.0|       GBPUSD|\n",
      "|2019-01-24 08:00:00|1.29477|1.30939|1.29415|1.30752|156667.0|       GBPUSD|\n",
      "|2019-01-25 08:00:00|1.30742|1.31389| 1.3012|1.31263|161472.0|       GBPUSD|\n",
      "|2019-01-28 08:00:00|1.31842|1.32108|1.31842|1.31929| 22039.0|       GBPUSD|\n",
      "|2019-01-29 08:00:00|1.31914|1.31955|1.31367|1.31529|137803.0|       GBPUSD|\n",
      "|2019-01-30 08:00:00|1.31525|1.31996|1.30533|1.30958|181591.0|       GBPUSD|\n",
      "|2019-02-01 08:00:00|1.31103| 1.3113|1.30772|1.30985| 24828.0|       GBPUSD|\n",
      "|2019-02-04 08:00:00| 1.3061|1.30849|1.30602| 1.3073| 20023.0|       GBPUSD|\n",
      "|2019-02-05 08:00:00| 1.3074|1.31031|1.30262|1.30367|123342.0|       GBPUSD|\n",
      "|2019-02-06 08:00:00|1.30379|1.30512|1.29248| 1.2954|126195.0|       GBPUSD|\n",
      "+-------------------+-------+-------+-------+-------+--------+-------------+\n",
      "only showing top 20 rows\n",
      "\n"
     ]
    }
   ],
   "source": [
    "dfs = spark.read.parquet(f\"{path_to_gold}/resolution_1440min\")\n",
    "dfs.show()"
   ]
  },
  {
   "cell_type": "code",
   "execution_count": 4,
   "metadata": {},
   "outputs": [
    {
     "name": "stdout",
     "output_type": "stream",
     "text": [
      "+-------------------+-------+-------+-------+-------+------+-------------+------------------+------------------+--------------------+\n",
      "|               time|   open|   high|    low|  close|volume|currency_pair|         sma_2_day|         ema_2_day|    volatility_2_day|\n",
      "+-------------------+-------+-------+-------+-------+------+-------------+------------------+------------------+--------------------+\n",
      "|2019-01-07 15:00:00|0.71342|0.71349|0.71331|0.71336| 348.0|       AUDUSD|0.7133600115776062|              null|                null|\n",
      "|2019-01-07 16:00:00| 0.7134|0.71401|0.71318|0.71335|3762.0|       AUDUSD|0.7133550047874451|0.7133540034294129|3.540335274915098...|\n",
      "|2019-01-07 17:00:00|0.71345|0.71388|0.71258|0.71349|4598.0|       AUDUSD|0.7134000062942505|0.7134314349719456|2.603517874806313E-5|\n",
      "|2019-01-07 18:00:00|0.71317|0.71382| 0.7123|0.71332|7013.0|       AUDUSD|0.7133800089359283|0.7133664168747775|1.881914011405410...|\n",
      "|2019-01-07 19:00:00|0.71369| 0.7145|0.71258|0.71418|4918.0|       AUDUSD| 0.713540005683899|0.7139094210853263|7.273093350738652E-5|\n",
      "|2019-01-07 20:00:00|0.71429|0.71479|  0.714| 0.7147|2542.0|       AUDUSD|0.7137333353360494|  0.71448487545472| 9.57505294706619E-5|\n",
      "|2019-01-07 21:00:00|0.71462|0.71495|0.71409| 0.7141|2660.0|       AUDUSD|0.7137857164655413|0.7142046430765371|7.749277726781593E-5|\n",
      "|2019-01-07 22:00:00|0.71418|0.71449|0.71394| 0.7142|2218.0|       AUDUSD|0.7138375043869019|0.7141996995795123|6.539201410953547E-5|\n",
      "|2019-01-07 23:00:00|0.71425|0.71474|0.71411|0.71432|2479.0|       AUDUSD|0.7138911154535081|0.7142957087497984|5.723352495544723...|\n",
      "|2019-01-08 01:00:00|0.71463|0.71474|0.71421|0.71431| 834.0|       AUDUSD|0.7139330029487609|0.7143077657603819|5.033828779974652E-5|\n",
      "|2019-01-08 02:00:00|0.71421|0.71469|0.71403|0.71451|2206.0|       AUDUSD|0.7139854593710466|0.7144763932600654|4.620501639110462E-5|\n",
      "|2019-01-08 03:00:00|0.71442|0.71492|0.71365|0.71429|3277.0|       AUDUSD|0.7140108396609625| 0.714319101864169|4.104277060797823E-5|\n",
      "|2019-01-08 04:00:00|0.71415|0.71446|0.71323|0.71337|4811.0|       AUDUSD|0.7139615462376521|0.7135053568226988|3.876366955634873...|\n",
      "|2019-01-08 05:00:00| 0.7133|0.71486|0.71284|0.71421|4521.0|       AUDUSD|0.7139792910643986| 0.714114794160027|3.490638707954418E-5|\n",
      "|2019-01-08 06:00:00|0.71422|0.71441|0.71229|0.71273|4418.0|       AUDUSD|0.7138960043589274| 0.712903708656826|3.805312636898245E-5|\n",
      "|2019-01-08 07:00:00|0.71273|0.71313| 0.7122|0.71283|2418.0|       AUDUSD|0.7138293795287609|0.7128375375694782|3.827890949328388E-5|\n",
      "|2019-01-08 08:00:00|0.71266|0.71317|0.71225| 0.7124|3061.0|       AUDUSD|0.7137452995075899|0.7124484789165682| 4.04065253989062E-5|\n",
      "|2019-01-08 09:00:00|0.71234|0.71309| 0.7121|0.71244|3086.0|       AUDUSD|0.7136727836396959|0.7124406237978689|4.077735633768477...|\n",
      "|2019-01-08 10:00:00|0.71253| 0.7132|0.71162|0.71217|4867.0|       AUDUSD|0.7135936900189048|0.7121970398417146|4.169785827396554E-5|\n",
      "|2019-01-08 11:00:00|0.71203|0.71353|  0.712|0.71348|5929.0|       AUDUSD|0.7135880053043365|0.7133576848463343|3.857737721579426...|\n",
      "+-------------------+-------+-------+-------+-------+------+-------------+------------------+------------------+--------------------+\n",
      "only showing top 20 rows\n",
      "\n"
     ]
    }
   ],
   "source": [
    "from alkansya.feature_engineering import spark_query as query\n",
    "\n",
    "dfs = spark.read.parquet(f\"{path_to_gold}/resolution_60min\")\n",
    "\n",
    "dfs_temp = dfs.select(\n",
    "    \"*\",\n",
    "    query.simple_moving_average(window_size_days=3),\n",
    "    query.exponential_moving_average(window_size_days=3),\n",
    "    query.volatility(window_size_days=3),\n",
    "    query.support_and_resistance(window_size_days=28)\n",
    ")\n",
    "\n",
    "dfs_temp.show()"
   ]
  },
  {
   "cell_type": "code",
   "execution_count": 23,
   "metadata": {},
   "outputs": [
    {
     "name": "stdout",
     "output_type": "stream",
     "text": [
      "+-------------------+-------+-------+-------+-------+--------+-------------+---------------------+\n",
      "|               time|   open|   high|    low|  close|  volume|currency_pair|maximum_swing_per_day|\n",
      "+-------------------+-------+-------+-------+-------+--------+-------------+---------------------+\n",
      "|2022-09-26 08:00:00|1.07953|1.08445|1.03463|1.05463|102078.0|       GBPUSD|  0.04594039854343601|\n",
      "|2022-09-23 08:00:00|144.799|145.895| 140.34|142.276|333221.0|       USDJPY| 0.038075381417421617|\n",
      "|2022-09-27 08:00:00|1.05331|1.09294|1.05222|1.07671|354150.0|       GBPUSD|  0.03725729406227696|\n",
      "|2022-12-20 08:00:00|136.193|137.474|132.663|132.781|173064.0|       USDJPY| 0.034995742270155894|\n",
      "|2022-09-29 08:00:00|1.06483| 1.0915|1.05385|1.08076|382653.0|       GBPUSD|  0.03449380450288908|\n",
      "|2022-06-17 08:00:00|1.21467|1.24065|1.20409|1.23067|305992.0|       GBPUSD| 0.029468469665649977|\n",
      "|2022-10-14 08:00:00| 1.1088|1.13792|1.10561|1.13201|317786.0|       GBPUSD|  0.02839391906084132|\n",
      "|2022-10-24 08:00:00|147.758|149.702| 145.52|148.907| 86024.0|       USDJPY|    0.027935443034104|\n",
      "|2022-10-14 08:00:00|0.62754|0.63425|0.61695|0.63252|232005.0|       AUDUSD| 0.027276326575759402|\n",
      "|2022-12-01 08:00:00|138.469|139.889|  136.2|136.477|187286.0|       USDJPY| 0.026370982854492575|\n",
      "|2023-07-28 08:00:00|0.68107|0.68181| 0.6642|0.66523|147217.0|       AUDUSD| 0.025828328907198328|\n",
      "|2022-09-29 08:00:00|0.63852|0.65302|0.63623|  0.649|270266.0|       AUDUSD| 0.025711359165115133|\n",
      "|2023-01-19 08:00:00| 0.6995|0.70627|0.68924|0.68985|164175.0|       AUDUSD| 0.024112593174720698|\n",
      "|2022-05-06 08:00:00|0.72352|0.72494|0.70772|0.71062|181874.0|       AUDUSD| 0.023753717890478754|\n",
      "|2021-02-26 08:00:00|0.79723|0.80068|0.78193|0.78324|174064.0|       AUDUSD|  0.02341753602516039|\n",
      "|2022-06-17 08:00:00|134.409|134.643| 131.49| 133.87|321276.0|       USDJPY|  0.02341747994438781|\n",
      "|2022-12-21 08:00:00|  132.9|133.694|130.565| 132.08|220352.0|       USDJPY|  0.02340417518378135|\n",
      "|2022-05-12 08:00:00|0.69625|0.70533|0.68885|0.68963|177106.0|       AUDUSD| 0.023364989858430385|\n",
      "|2023-11-15 08:00:00|0.63663|0.65124|0.63605|0.65016| 91268.0|       AUDUSD| 0.023324742810585497|\n",
      "|2022-12-16 08:00:00|0.68312|0.68345|0.66765|0.67049|168880.0|       AUDUSD| 0.023118003681717347|\n",
      "+-------------------+-------+-------+-------+-------+--------+-------------+---------------------+\n",
      "only showing top 20 rows\n",
      "\n"
     ]
    }
   ],
   "source": [
    "dfs.withColumn(\"maximum_swing_per_day\", (1-f.col(\"low\")/f.col(\"high\"))).orderBy(f.col(\"maximum_swing_per_day\").desc()).filter(f.col(\"time\")>\"2021-01-01\").show()"
   ]
  },
  {
   "cell_type": "code",
   "execution_count": 24,
   "metadata": {},
   "outputs": [],
   "source": [
    "df = pd.read_parquet(f\"{path_to_gold}/resolution_1440min\")\n",
    "df['theoretical_max_swing'] = 1-df[\"low\"]/df[\"high\"]\n",
    "df['theoretical_swing_open_close'] = df[\"open\"]/df[\"close\"]\n",
    "\n",
    "# Exclude 2020 pandemic start\n",
    "df = df[df[\"time\"]>datetime(2021, 1,1)].sort_values(\"theoretical_swing_open_close\", ascending=False)"
   ]
  },
  {
   "cell_type": "code",
   "execution_count": 25,
   "metadata": {},
   "outputs": [
    {
     "data": {
      "text/plain": [
       "<Axes: >"
      ]
     },
     "execution_count": 25,
     "metadata": {},
     "output_type": "execute_result"
    },
    {
     "data": {
      "image/png": "[encoded data removed]",
      "text/plain": [
       "<Figure size 640x480 with 1 Axes>"
      ]
     },
     "metadata": {},
     "output_type": "display_data"
    }
   ],
   "source": [
    "df['theoretical_swing_open_close'].hist(bins=30)"
   ]
  },
  {
   "cell_type": "code",
   "execution_count": null,
   "metadata": {},
   "outputs": [],
   "source": []
  }
 ],
 "metadata": {
  "kernelspec": {
   "display_name": "piggybank",
   "language": "python",
   "name": "python3"
  },
  "language_info": {
   "codemirror_mode": {
    "name": "ipython",
    "version": 3
   },
   "file_extension": ".py",
   "mimetype": "text/x-python",
   "name": "python",
   "nbconvert_exporter": "python",
   "pygments_lexer": "ipython3",
   "version": "3.11.7"
  }
 },
 "nbformat": 4,
 "nbformat_minor": 2
}
