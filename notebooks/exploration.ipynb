{
 "cells": [
  {
   "cell_type": "code",
   "execution_count": 1,
   "metadata": {},
   "outputs": [
    {
     "name": "stderr",
     "output_type": "stream",
     "text": [
      "23/12/30 01:08:00 WARN Utils: Your hostname, Nigels-MacBook-Air.local resolves to a loopback address: 127.0.0.1; using 192.168.254.124 instead (on interface en0)\n",
      "23/12/30 01:08:00 WARN Utils: Set SPARK_LOCAL_IP if you need to bind to another address\n",
      "Setting default log level to \"WARN\".\n",
      "To adjust logging level use sc.setLogLevel(newLevel). For SparkR, use setLogLevel(newLevel).\n",
      "23/12/30 01:08:00 WARN NativeCodeLoader: Unable to load native-hadoop library for your platform... using builtin-java classes where applicable\n"
     ]
    }
   ],
   "source": [
    "import os\n",
    "import findspark\n",
    "\n",
    "from alkansya.data_generators import generate_ohlcv\n",
    "from alkansya.utils import get_configurations\n",
    "\n",
    "from pyspark.sql import SparkSession\n",
    "from pyspark.sql import functions as f\n",
    "\n",
    "import pandas as pd\n",
    "from datetime import datetime\n",
    "\n",
    "os.environ[\"ENV\"] = \"DEV\"\n",
    "findspark.init()\n",
    "\n",
    "cfg = get_configurations()\n",
    "\n",
    "PATH_TO_BRONZE = cfg[\"path_to_bronze\"]\n",
    "PATH_TO_SILVER = cfg[\"path_to_silver\"]\n",
    "PATH_TO_GOLD = cfg[\"path_to_gold\"]\n",
    "\n",
    "spark = SparkSession.builder.master(\"local[*]\").getOrCreate()"
   ]
  },
  {
   "cell_type": "code",
   "execution_count": 4,
   "metadata": {},
   "outputs": [
    {
     "name": "stderr",
     "output_type": "stream",
     "text": [
      "                                                                                \r"
     ]
    }
   ],
   "source": [
    "dfs = spark.read.parquet(f\"{PATH_TO_GOLD}/cleaned\")\n",
    "\n",
    "for resolution in [15,30,60,1440]:\n",
    "    generate_ohlcv(dfs, resolution, PATH_TO_GOLD)"
   ]
  },
  {
   "cell_type": "code",
   "execution_count": 5,
   "metadata": {},
   "outputs": [
    {
     "name": "stdout",
     "output_type": "stream",
     "text": [
      "+-------------------+-------+-------+-------+-------+--------+-------------+\n",
      "|               time|   open|   high|    low|  close|  volume|currency_pair|\n",
      "+-------------------+-------+-------+-------+-------+--------+-------------+\n",
      "|2019-01-09 08:00:00|1.27576|1.27797|1.27066|1.27395| 91172.0|       GBPUSD|\n",
      "|2019-01-10 08:00:00|1.27418|1.28035|1.27156|1.27889|161779.0|       GBPUSD|\n",
      "|2019-01-11 08:00:00|1.27868|1.27939|1.27279|1.27607|141804.0|       GBPUSD|\n",
      "|2019-01-14 08:00:00|1.28533|1.28639|1.28404|1.28508| 23999.0|       GBPUSD|\n",
      "|2019-01-15 08:00:00|  1.285|1.29303|1.28184|1.29135|124252.0|       GBPUSD|\n",
      "|2019-01-16 08:00:00|1.29148|1.29148|1.26679|1.28681|163631.0|       GBPUSD|\n",
      "|2019-01-17 08:00:00| 1.2867| 1.2897|1.28405|1.28753|130260.0|       GBPUSD|\n",
      "|2019-01-18 08:00:00|1.28781|1.30005| 1.2832|1.29756|140608.0|       GBPUSD|\n",
      "|2019-01-21 08:00:00|1.28768|1.28792|1.28476|1.28695| 23695.0|       GBPUSD|\n",
      "|2019-01-22 08:00:00|1.28682|1.29103|1.28301|1.28731|110491.0|       GBPUSD|\n",
      "|2019-01-23 08:00:00|1.28727|1.29751|1.28549|1.29471|143657.0|       GBPUSD|\n",
      "|2019-01-24 08:00:00|1.29477|1.30939|1.29415|1.30752|156667.0|       GBPUSD|\n",
      "|2019-01-25 08:00:00|1.30742|1.31389| 1.3012|1.31263|161472.0|       GBPUSD|\n",
      "|2019-01-28 08:00:00|1.31842|1.32108|1.31842|1.31929| 22039.0|       GBPUSD|\n",
      "|2019-01-29 08:00:00|1.31914|1.31955|1.31367|1.31529|137803.0|       GBPUSD|\n",
      "|2019-01-30 08:00:00|1.31525|1.31996|1.30533|1.30958|181591.0|       GBPUSD|\n",
      "|2019-02-01 08:00:00|1.31103| 1.3113|1.30772|1.30985| 24828.0|       GBPUSD|\n",
      "|2019-02-04 08:00:00| 1.3061|1.30849|1.30602| 1.3073| 20023.0|       GBPUSD|\n",
      "|2019-02-05 08:00:00| 1.3074|1.31031|1.30262|1.30367|123342.0|       GBPUSD|\n",
      "|2019-02-06 08:00:00|1.30379|1.30512|1.29248| 1.2954|126195.0|       GBPUSD|\n",
      "+-------------------+-------+-------+-------+-------+--------+-------------+\n",
      "only showing top 20 rows\n",
      "\n"
     ]
    }
   ],
   "source": [
    "dfs = spark.read.parquet(f\"{PATH_TO_GOLD}/resolution_1440min\")\n",
    "dfs.show()"
   ]
  },
  {
   "cell_type": "code",
   "execution_count": 8,
   "metadata": {},
   "outputs": [
    {
     "name": "stdout",
     "output_type": "stream",
     "text": [
      "+-------------------+-------+-------+-------+-------+------+-------------+------------------+------------------+--------------------+-----------+-----------+-------------+-------------+\n",
      "|               time|   open|   high|    low|  close|volume|currency_pair|         sma_3_day|         ema_3_day|    volatility_3_day|upper_bound|lower_bound| peak_indeces|  dip_indeces|\n",
      "+-------------------+-------+-------+-------+-------+------+-------------+------------------+------------------+--------------------+-----------+-----------+-------------+-------------+\n",
      "|2019-01-07 15:00:00|0.71342|0.71349|0.71331|0.71336| 348.0|       AUDUSD|0.7133600115776062|              NULL|                NULL|    0.71342|    0.71336|           []|           []|\n",
      "|2019-01-07 16:00:00| 0.7134|0.71401|0.71318|0.71335|3762.0|       AUDUSD|0.7133550047874451|0.7133540034294129|3.540335274915098...|     0.7134|    0.71335|           []|           []|\n",
      "|2019-01-07 17:00:00|0.71345|0.71388|0.71258|0.71349|4598.0|       AUDUSD|0.7134000062942505|0.7134314349719456|2.603517874806313E-5|    0.71349|    0.71345|           []|          [1]|\n",
      "|2019-01-07 18:00:00|0.71317|0.71382| 0.7123|0.71332|7013.0|       AUDUSD|0.7133800089359283|0.7133664168747775|1.881914011405410...|    0.71332|    0.71317|          [2]|          [1]|\n",
      "|2019-01-07 19:00:00|0.71369| 0.7145|0.71258|0.71418|4918.0|       AUDUSD| 0.713540005683899|0.7139094210853263|7.273093350738652E-5|    0.71418|    0.71369|          [2]|       [1, 3]|\n",
      "|2019-01-07 20:00:00|0.71429|0.71479|  0.714| 0.7147|2542.0|       AUDUSD|0.7137333353360494|  0.71448487545472| 9.57505294706619E-5|     0.7147|    0.71429|          [2]|       [1, 3]|\n",
      "|2019-01-07 21:00:00|0.71462|0.71495|0.71409| 0.7141|2660.0|       AUDUSD|0.7137857164655413|0.7142046430765371|7.749277726781593E-5|    0.71462|     0.7141|       [2, 5]|       [1, 3]|\n",
      "|2019-01-07 22:00:00|0.71418|0.71449|0.71394| 0.7142|2218.0|       AUDUSD|0.7138375043869019|0.7141996995795123|6.539201410953547E-5|     0.7142|    0.71418|       [2, 5]|    [1, 3, 6]|\n",
      "|2019-01-07 23:00:00|0.71425|0.71474|0.71411|0.71432|2479.0|       AUDUSD|0.7138911154535081|0.7142957087497984|5.723352495544723...|    0.71432|    0.71425|       [2, 5]|    [1, 3, 6]|\n",
      "|2019-01-08 01:00:00|0.71463|0.71474|0.71421|0.71431| 834.0|       AUDUSD|0.7139330029487609|0.7143077657603819|5.033828779974652E-5|    0.71463|    0.71431|       [2, 5]|    [1, 3, 6]|\n",
      "|2019-01-08 02:00:00|0.71421|0.71469|0.71403|0.71451|2206.0|       AUDUSD|0.7139854593710466|0.7144763932600654|4.620501639110462E-5|    0.71451|    0.71421|    [2, 5, 9]|    [1, 3, 6]|\n",
      "|2019-01-08 03:00:00|0.71442|0.71492|0.71365|0.71429|3277.0|       AUDUSD|0.7140108396609625| 0.714319101864169|4.104277060797823E-5|    0.71442|    0.71429|    [2, 5, 9]|[1, 3, 6, 10]|\n",
      "|2019-01-08 04:00:00|0.71415|0.71446|0.71323|0.71337|4811.0|       AUDUSD|0.7139615462376521|0.7135053568226988|3.876366955634873...|    0.71415|    0.71337|    [2, 5, 9]|[1, 3, 6, 10]|\n",
      "|2019-01-08 05:00:00| 0.7133|0.71486|0.71284|0.71421|4521.0|       AUDUSD|0.7139792910643986| 0.714114794160027|3.490638707954418E-5|    0.71421|     0.7133|    [2, 5, 9]|[1, 3, 6, 10]|\n",
      "|2019-01-08 06:00:00|0.71422|0.71441|0.71229|0.71273|4418.0|       AUDUSD|0.7138960043589274| 0.712903708656826|3.805312636898245E-5|    0.71422|    0.71273|    [2, 5, 9]|[1, 3, 6, 10]|\n",
      "|2019-01-08 07:00:00|0.71273|0.71313| 0.7122|0.71283|2418.0|       AUDUSD|0.7138293795287609|0.7128375375694782|3.827890949328388E-5|    0.71283|    0.71273|[2, 5, 9, 14]|[1, 3, 6, 10]|\n",
      "|2019-01-08 08:00:00|0.71266|0.71317|0.71225| 0.7124|3061.0|       AUDUSD|0.7137452995075899|0.7124484789165682| 4.04065253989062E-5|    0.71266|     0.7124|[2, 5, 9, 14]|[1, 3, 6, 10]|\n",
      "|2019-01-08 09:00:00|0.71234|0.71309| 0.7121|0.71244|3086.0|       AUDUSD|0.7136727836396959|0.7124406237978689|4.077735633768477...|    0.71244|    0.71234|[2, 5, 9, 14]|[1, 3, 6, 10]|\n",
      "|2019-01-08 10:00:00|0.71253| 0.7132|0.71162|0.71217|4867.0|       AUDUSD|0.7135936900189048|0.7121970398417146|4.169785827396554E-5|    0.71253|    0.71217|[2, 5, 9, 14]|[1, 3, 6, 10]|\n",
      "|2019-01-08 11:00:00|0.71203|0.71353|  0.712|0.71348|5929.0|       AUDUSD|0.7135880053043365|0.7133576848463343|3.857737721579426...|    0.71348|    0.71203|[2, 5, 9, 14]|[1, 3, 6, 10]|\n",
      "+-------------------+-------+-------+-------+-------+------+-------------+------------------+------------------+--------------------+-----------+-----------+-------------+-------------+\n",
      "only showing top 20 rows\n",
      "\n"
     ]
    }
   ],
   "source": [
    "from alkansya.feature_engineering import spark_query as query\n",
    "\n",
    "dfs = spark.read.parquet(f\"{PATH_TO_GOLD}/resolution_60min\")\n",
    "\n",
    "dfs_temp = dfs.select(\n",
    "    \"*\",\n",
    "    query.simple_moving_average(window_size_days=3),\n",
    "    query.exponential_moving_average(window_size_days=3),\n",
    "    query.volatility(window_size_days=3),\n",
    "    # *query.support_and_resistance(window_size_days=28, prominence=0.001, wlen=14, plateau_size=3)\n",
    ")\n",
    "\n",
    "dfs_temp.show()"
   ]
  },
  {
   "cell_type": "code",
   "execution_count": 1,
   "metadata": {},
   "outputs": [
    {
     "ename": "NameError",
     "evalue": "name 'dfs' is not defined",
     "output_type": "error",
     "traceback": [
      "\u001b[0;31m---------------------------------------------------------------------------\u001b[0m",
      "\u001b[0;31mNameError\u001b[0m                                 Traceback (most recent call last)",
      "Cell \u001b[0;32mIn[1], line 1\u001b[0m\n\u001b[0;32m----> 1\u001b[0m \u001b[43mdfs\u001b[49m\u001b[38;5;241m.\u001b[39mwithColumn(\u001b[38;5;124m\"\u001b[39m\u001b[38;5;124mmaximum_swing_per_day\u001b[39m\u001b[38;5;124m\"\u001b[39m, (\u001b[38;5;241m1\u001b[39m\u001b[38;5;241m-\u001b[39mf\u001b[38;5;241m.\u001b[39mcol(\u001b[38;5;124m\"\u001b[39m\u001b[38;5;124mlow\u001b[39m\u001b[38;5;124m\"\u001b[39m)\u001b[38;5;241m/\u001b[39mf\u001b[38;5;241m.\u001b[39mcol(\u001b[38;5;124m\"\u001b[39m\u001b[38;5;124mhigh\u001b[39m\u001b[38;5;124m\"\u001b[39m)))\u001b[38;5;241m.\u001b[39morderBy(f\u001b[38;5;241m.\u001b[39mcol(\u001b[38;5;124m\"\u001b[39m\u001b[38;5;124mmaximum_swing_per_day\u001b[39m\u001b[38;5;124m\"\u001b[39m)\u001b[38;5;241m.\u001b[39mdesc())\u001b[38;5;241m.\u001b[39mfilter(f\u001b[38;5;241m.\u001b[39mcol(\u001b[38;5;124m\"\u001b[39m\u001b[38;5;124mtime\u001b[39m\u001b[38;5;124m\"\u001b[39m)\u001b[38;5;241m>\u001b[39m\u001b[38;5;124m\"\u001b[39m\u001b[38;5;124m2021-01-01\u001b[39m\u001b[38;5;124m\"\u001b[39m)\u001b[38;5;241m.\u001b[39mshow()\n",
      "\u001b[0;31mNameError\u001b[0m: name 'dfs' is not defined"
     ]
    }
   ],
   "source": [
    "dfs.withColumn(\"maximum_swing_per_day\", (1-f.col(\"low\")/f.col(\"high\"))).orderBy(f.col(\"maximum_swing_per_day\").desc()).filter(f.col(\"time\")>\"2021-01-01\").show()"
   ]
  },
  {
   "cell_type": "code",
   "execution_count": 24,
   "metadata": {},
   "outputs": [],
   "source": [
    "df = pd.read_parquet(f\"{PATH_TO_GOLD}/resolution_1440min\")\n",
    "df['theoretical_max_swing'] = 1-df[\"low\"]/df[\"high\"]\n",
    "df['theoretical_swing_open_close'] = df[\"open\"]/df[\"close\"]\n",
    "\n",
    "# Exclude 2020 pandemic start\n",
    "df = df[df[\"time\"]>datetime(2021, 1,1)].sort_values(\"theoretical_swing_open_close\", ascending=False)"
   ]
  },
  {
   "cell_type": "code",
   "execution_count": null,
   "metadata": {},
   "outputs": [],
   "source": []
  }
 ],
 "metadata": {
  "kernelspec": {
   "display_name": "piggybank",
   "language": "python",
   "name": "python3"
  },
  "language_info": {
   "codemirror_mode": {
    "name": "ipython",
    "version": 3
   },
   "file_extension": ".py",
   "mimetype": "text/x-python",
   "name": "python",
   "nbconvert_exporter": "python",
   "pygments_lexer": "ipython3",
   "version": "3.11.5"
  }
 },
 "nbformat": 4,
 "nbformat_minor": 2
}
